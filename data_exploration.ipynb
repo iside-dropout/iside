{
  "cells": [
    {
      "cell_type": "markdown",
      "metadata": {
        "id": "L9gcmFVXGI2W"
      },
      "source": [
        "# **ISIDE: Data Exploration**"
      ]
    },
    {
      "cell_type": "markdown",
      "metadata": {
        "id": "_Q0BGkK0PBSS"
      },
      "source": [
        "## 1. Import packages"
      ]
    },
    {
      "cell_type": "code",
      "execution_count": 1,
      "metadata": {
        "id": "XCH5w86cGI2X"
      },
      "outputs": [],
      "source": [
        "import numpy as np\n",
        "import pandas as pd\n",
        "import matplotlib.pyplot as plt\n",
        "import matplotlib.colors as clr\n",
        "import matplotlib.patches as mpatches\n",
        "import seaborn as sns\n",
        "import scipy.stats as sp\n",
        "\n",
        "%matplotlib inline"
      ]
    },
    {
      "cell_type": "markdown",
      "metadata": {
        "id": "j-wuI-UNPD4R"
      },
      "source": [
        "## 2. Set up Google Drive Filesystem"
      ]
    },
    {
      "cell_type": "code",
      "execution_count": null,
      "metadata": {
        "id": "uuKXgduAV776"
      },
      "outputs": [],
      "source": [
        "GDRIVE_MOUNT_DIR = \"/content/drive\"\n",
        "GDRIVE_BASE_DIR = GDRIVE_MOUNT_DIR + \"/MyDrive/Tmp/ISIDE\""
      ]
    },
    {
      "cell_type": "code",
      "execution_count": null,
      "metadata": {
        "colab": {
          "base_uri": "https://localhost:8080/"
        },
        "id": "eVqvUJ9yWBmr",
        "outputId": "2ae51b30-b74c-4285-8fd8-2af9e6649d34"
      },
      "outputs": [
        {
          "name": "stdout",
          "output_type": "stream",
          "text": [
            "Mounted at /content/drive\n"
          ]
        }
      ],
      "source": [
        "from google.colab import drive\n",
        "drive.mount(GDRIVE_MOUNT_DIR)"
      ]
    },
    {
      "cell_type": "markdown",
      "metadata": {
        "id": "KyFo_u8CPa48"
      },
      "source": [
        "## 3. Load the dataset"
      ]
    },
    {
      "cell_type": "code",
      "execution_count": null,
      "metadata": {
        "id": "jX-DHTB5GI2Y"
      },
      "outputs": [],
      "source": [
        "sentinels = ['None', 'n.d.', ' ', '']\n",
        "df = pd.read_csv(GDRIVE_BASE_DIR+'/assets/yid_out.tsv', sep='\\t', na_values=sentinels)"
      ]
    },
    {
      "cell_type": "code",
      "execution_count": null,
      "metadata": {
        "colab": {
          "base_uri": "https://localhost:8080/",
          "height": 456
        },
        "id": "ThZKs0nhWYXa",
        "outputId": "c50abd05-1664-48b7-dda6-f5678df31069"
      },
      "outputs": [
        {
          "data": {
            "text/html": [
              "\n",
              "  <div id=\"df-aeb9e2d8-05b1-4164-8088-7eb1d95141a7\">\n",
              "    <div class=\"colab-df-container\">\n",
              "      <div>\n",
              "<style scoped>\n",
              "    .dataframe tbody tr th:only-of-type {\n",
              "        vertical-align: middle;\n",
              "    }\n",
              "\n",
              "    .dataframe tbody tr th {\n",
              "        vertical-align: top;\n",
              "    }\n",
              "\n",
              "    .dataframe thead th {\n",
              "        text-align: right;\n",
              "    }\n",
              "</style>\n",
              "<table border=\"1\" class=\"dataframe\">\n",
              "  <thead>\n",
              "    <tr style=\"text-align: right;\">\n",
              "      <th></th>\n",
              "      <th>ID_Stud</th>\n",
              "      <th>annoAccaCors</th>\n",
              "      <th>annoCorso</th>\n",
              "      <th>annoDiNascita</th>\n",
              "      <th>cittadinanza</th>\n",
              "      <th>codCorso</th>\n",
              "      <th>creditiTotali</th>\n",
              "      <th>facolta</th>\n",
              "      <th>flagIdentificato</th>\n",
              "      <th>iscritto</th>\n",
              "      <th>...</th>\n",
              "      <th>ultIscr</th>\n",
              "      <th>valoreIntero</th>\n",
              "      <th>cfuPrenotati</th>\n",
              "      <th>ultPren</th>\n",
              "      <th>cfuTake</th>\n",
              "      <th>ultSup</th>\n",
              "      <th>mediaVoto</th>\n",
              "      <th>votoDiploma</th>\n",
              "      <th>lastLogin</th>\n",
              "      <th>Dropout</th>\n",
              "    </tr>\n",
              "  </thead>\n",
              "  <tbody>\n",
              "    <tr>\n",
              "      <th>0</th>\n",
              "      <td>1</td>\n",
              "      <td>1640991600</td>\n",
              "      <td>2</td>\n",
              "      <td>946681200</td>\n",
              "      <td>UE</td>\n",
              "      <td>29950</td>\n",
              "      <td>180</td>\n",
              "      <td>LETTERE E FILOSOFIA</td>\n",
              "      <td>0</td>\n",
              "      <td>True</td>\n",
              "      <td>...</td>\n",
              "      <td>1609455600</td>\n",
              "      <td>57.0</td>\n",
              "      <td>18</td>\n",
              "      <td>1645052400</td>\n",
              "      <td>54</td>\n",
              "      <td>1644534000</td>\n",
              "      <td>28.0</td>\n",
              "      <td>82.0</td>\n",
              "      <td>1644601030</td>\n",
              "      <td>False</td>\n",
              "    </tr>\n",
              "    <tr>\n",
              "      <th>1</th>\n",
              "      <td>2</td>\n",
              "      <td>1640991600</td>\n",
              "      <td>4</td>\n",
              "      <td>915145200</td>\n",
              "      <td>ITA</td>\n",
              "      <td>30009</td>\n",
              "      <td>360</td>\n",
              "      <td>Interfacolta tra FARMACIA E MEDICINA - MEDICIN...</td>\n",
              "      <td>1</td>\n",
              "      <td>True</td>\n",
              "      <td>...</td>\n",
              "      <td>1609455600</td>\n",
              "      <td>50000.0</td>\n",
              "      <td>12</td>\n",
              "      <td>1645398000</td>\n",
              "      <td>136</td>\n",
              "      <td>1644188400</td>\n",
              "      <td>27.0</td>\n",
              "      <td>84.0</td>\n",
              "      <td>1644442067</td>\n",
              "      <td>False</td>\n",
              "    </tr>\n",
              "    <tr>\n",
              "      <th>2</th>\n",
              "      <td>3</td>\n",
              "      <td>1640991600</td>\n",
              "      <td>2</td>\n",
              "      <td>852073200</td>\n",
              "      <td>Extra-UE</td>\n",
              "      <td>30827</td>\n",
              "      <td>120</td>\n",
              "      <td>ECONOMIA</td>\n",
              "      <td>1</td>\n",
              "      <td>True</td>\n",
              "      <td>...</td>\n",
              "      <td>1609455600</td>\n",
              "      <td>9072.0</td>\n",
              "      <td>9</td>\n",
              "      <td>1613343600</td>\n",
              "      <td>9</td>\n",
              "      <td>1613343600</td>\n",
              "      <td>26.0</td>\n",
              "      <td>72.0</td>\n",
              "      <td>1644473621</td>\n",
              "      <td>False</td>\n",
              "    </tr>\n",
              "    <tr>\n",
              "      <th>3</th>\n",
              "      <td>4</td>\n",
              "      <td>1640991600</td>\n",
              "      <td>1</td>\n",
              "      <td>915145200</td>\n",
              "      <td>ITA</td>\n",
              "      <td>30046</td>\n",
              "      <td>180</td>\n",
              "      <td>SCIENZE MATEMATICHE, FISICHE E NATURALI</td>\n",
              "      <td>1</td>\n",
              "      <td>True</td>\n",
              "      <td>...</td>\n",
              "      <td>1609455600</td>\n",
              "      <td>50000.0</td>\n",
              "      <td>18</td>\n",
              "      <td>1645138800</td>\n",
              "      <td>150</td>\n",
              "      <td>1643151600</td>\n",
              "      <td>23.0</td>\n",
              "      <td>82.0</td>\n",
              "      <td>1644355169</td>\n",
              "      <td>False</td>\n",
              "    </tr>\n",
              "    <tr>\n",
              "      <th>4</th>\n",
              "      <td>5</td>\n",
              "      <td>1640991600</td>\n",
              "      <td>2</td>\n",
              "      <td>631148400</td>\n",
              "      <td>ITA</td>\n",
              "      <td>27592</td>\n",
              "      <td>120</td>\n",
              "      <td>INGEGNERIA CIVILE E INDUSTRIALE</td>\n",
              "      <td>0</td>\n",
              "      <td>False</td>\n",
              "      <td>...</td>\n",
              "      <td>1514761200</td>\n",
              "      <td>50000.0</td>\n",
              "      <td>0</td>\n",
              "      <td>946684800</td>\n",
              "      <td>111</td>\n",
              "      <td>1548198000</td>\n",
              "      <td>27.0</td>\n",
              "      <td>76.0</td>\n",
              "      <td>1636963837</td>\n",
              "      <td>False</td>\n",
              "    </tr>\n",
              "  </tbody>\n",
              "</table>\n",
              "<p>5 rows × 27 columns</p>\n",
              "</div>\n",
              "      <button class=\"colab-df-convert\" onclick=\"convertToInteractive('df-aeb9e2d8-05b1-4164-8088-7eb1d95141a7')\"\n",
              "              title=\"Convert this dataframe to an interactive table.\"\n",
              "              style=\"display:none;\">\n",
              "        \n",
              "  <svg xmlns=\"http://www.w3.org/2000/svg\" height=\"24px\"viewBox=\"0 0 24 24\"\n",
              "       width=\"24px\">\n",
              "    <path d=\"M0 0h24v24H0V0z\" fill=\"none\"/>\n",
              "    <path d=\"M18.56 5.44l.94 2.06.94-2.06 2.06-.94-2.06-.94-.94-2.06-.94 2.06-2.06.94zm-11 1L8.5 8.5l.94-2.06 2.06-.94-2.06-.94L8.5 2.5l-.94 2.06-2.06.94zm10 10l.94 2.06.94-2.06 2.06-.94-2.06-.94-.94-2.06-.94 2.06-2.06.94z\"/><path d=\"M17.41 7.96l-1.37-1.37c-.4-.4-.92-.59-1.43-.59-.52 0-1.04.2-1.43.59L10.3 9.45l-7.72 7.72c-.78.78-.78 2.05 0 2.83L4 21.41c.39.39.9.59 1.41.59.51 0 1.02-.2 1.41-.59l7.78-7.78 2.81-2.81c.8-.78.8-2.07 0-2.86zM5.41 20L4 18.59l7.72-7.72 1.47 1.35L5.41 20z\"/>\n",
              "  </svg>\n",
              "      </button>\n",
              "      \n",
              "  <style>\n",
              "    .colab-df-container {\n",
              "      display:flex;\n",
              "      flex-wrap:wrap;\n",
              "      gap: 12px;\n",
              "    }\n",
              "\n",
              "    .colab-df-convert {\n",
              "      background-color: #E8F0FE;\n",
              "      border: none;\n",
              "      border-radius: 50%;\n",
              "      cursor: pointer;\n",
              "      display: none;\n",
              "      fill: #1967D2;\n",
              "      height: 32px;\n",
              "      padding: 0 0 0 0;\n",
              "      width: 32px;\n",
              "    }\n",
              "\n",
              "    .colab-df-convert:hover {\n",
              "      background-color: #E2EBFA;\n",
              "      box-shadow: 0px 1px 2px rgba(60, 64, 67, 0.3), 0px 1px 3px 1px rgba(60, 64, 67, 0.15);\n",
              "      fill: #174EA6;\n",
              "    }\n",
              "\n",
              "    [theme=dark] .colab-df-convert {\n",
              "      background-color: #3B4455;\n",
              "      fill: #D2E3FC;\n",
              "    }\n",
              "\n",
              "    [theme=dark] .colab-df-convert:hover {\n",
              "      background-color: #434B5C;\n",
              "      box-shadow: 0px 1px 3px 1px rgba(0, 0, 0, 0.15);\n",
              "      filter: drop-shadow(0px 1px 2px rgba(0, 0, 0, 0.3));\n",
              "      fill: #FFFFFF;\n",
              "    }\n",
              "  </style>\n",
              "\n",
              "      <script>\n",
              "        const buttonEl =\n",
              "          document.querySelector('#df-aeb9e2d8-05b1-4164-8088-7eb1d95141a7 button.colab-df-convert');\n",
              "        buttonEl.style.display =\n",
              "          google.colab.kernel.accessAllowed ? 'block' : 'none';\n",
              "\n",
              "        async function convertToInteractive(key) {\n",
              "          const element = document.querySelector('#df-aeb9e2d8-05b1-4164-8088-7eb1d95141a7');\n",
              "          const dataTable =\n",
              "            await google.colab.kernel.invokeFunction('convertToInteractive',\n",
              "                                                     [key], {});\n",
              "          if (!dataTable) return;\n",
              "\n",
              "          const docLinkHtml = 'Like what you see? Visit the ' +\n",
              "            '<a target=\"_blank\" href=https://colab.research.google.com/notebooks/data_table.ipynb>data table notebook</a>'\n",
              "            + ' to learn more about interactive tables.';\n",
              "          element.innerHTML = '';\n",
              "          dataTable['output_type'] = 'display_data';\n",
              "          await google.colab.output.renderOutput(dataTable, element);\n",
              "          const docLink = document.createElement('div');\n",
              "          docLink.innerHTML = docLinkHtml;\n",
              "          element.appendChild(docLink);\n",
              "        }\n",
              "      </script>\n",
              "    </div>\n",
              "  </div>\n",
              "  "
            ],
            "text/plain": [
              "   ID_Stud  annoAccaCors  annoCorso  annoDiNascita cittadinanza  codCorso  \\\n",
              "0        1    1640991600          2      946681200           UE     29950   \n",
              "1        2    1640991600          4      915145200          ITA     30009   \n",
              "2        3    1640991600          2      852073200     Extra-UE     30827   \n",
              "3        4    1640991600          1      915145200          ITA     30046   \n",
              "4        5    1640991600          2      631148400          ITA     27592   \n",
              "\n",
              "   creditiTotali                                            facolta  \\\n",
              "0            180                                LETTERE E FILOSOFIA   \n",
              "1            360  Interfacolta tra FARMACIA E MEDICINA - MEDICIN...   \n",
              "2            120                                           ECONOMIA   \n",
              "3            180            SCIENZE MATEMATICHE, FISICHE E NATURALI   \n",
              "4            120                    INGEGNERIA CIVILE E INDUSTRIALE   \n",
              "\n",
              "   flagIdentificato  iscritto  ...     ultIscr valoreIntero  cfuPrenotati  \\\n",
              "0                 0      True  ...  1609455600         57.0            18   \n",
              "1                 1      True  ...  1609455600      50000.0            12   \n",
              "2                 1      True  ...  1609455600       9072.0             9   \n",
              "3                 1      True  ...  1609455600      50000.0            18   \n",
              "4                 0     False  ...  1514761200      50000.0             0   \n",
              "\n",
              "      ultPren  cfuTake      ultSup  mediaVoto  votoDiploma   lastLogin  \\\n",
              "0  1645052400       54  1644534000       28.0         82.0  1644601030   \n",
              "1  1645398000      136  1644188400       27.0         84.0  1644442067   \n",
              "2  1613343600        9  1613343600       26.0         72.0  1644473621   \n",
              "3  1645138800      150  1643151600       23.0         82.0  1644355169   \n",
              "4   946684800      111  1548198000       27.0         76.0  1636963837   \n",
              "\n",
              "   Dropout  \n",
              "0    False  \n",
              "1    False  \n",
              "2    False  \n",
              "3    False  \n",
              "4    False  \n",
              "\n",
              "[5 rows x 27 columns]"
            ]
          },
          "execution_count": 7,
          "metadata": {},
          "output_type": "execute_result"
        }
      ],
      "source": [
        "df.head()"
      ]
    },
    {
      "cell_type": "code",
      "execution_count": null,
      "metadata": {
        "colab": {
          "base_uri": "https://localhost:8080/"
        },
        "id": "nhYFGt5BPhlF",
        "outputId": "8824a37d-6549-4451-f5fc-51c71e983e3a"
      },
      "outputs": [
        {
          "name": "stdout",
          "output_type": "stream",
          "text": [
            "(73225, 27)\n"
          ]
        }
      ],
      "source": [
        "print(df.shape)"
      ]
    },
    {
      "cell_type": "markdown",
      "metadata": {
        "id": "Bj3QDrRzPhJv"
      },
      "source": [
        "## 4. Set up global plot aesthetics"
      ]
    },
    {
      "cell_type": "code",
      "execution_count": 2,
      "metadata": {
        "id": "o77IAZn0WahL"
      },
      "outputs": [],
      "source": [
        "# Global settings\n",
        "sns.set_theme()\n",
        "sns.set_context(\"paper\", font_scale=1.5)\n",
        "orange_red=\"orangered\"\n",
        "forest_green=\"forestgreen\"\n",
        "steel_blue=\"steelblue\"\n",
        "tab_orange=\"tab:orange\"\n",
        "tab_blue=\"tab:blue\"\n",
        "#sns.color_palette(\"tab10\")[0], sns.color_palette(\"tab10\")[1]"
      ]
    },
    {
      "cell_type": "markdown",
      "metadata": {
        "id": "irVk6pfZPvAj"
      },
      "source": [
        "## 5. Plots"
      ]
    },
    {
      "cell_type": "markdown",
      "metadata": {
        "id": "6JMLNJ5WQdiZ"
      },
      "source": [
        "### 5.1 Auxiliary functions"
      ]
    },
    {
      "cell_type": "code",
      "execution_count": 11,
      "metadata": {
        "id": "zI9Tj3nPIbht"
      },
      "outputs": [],
      "source": [
        "def plot_median(kdeline, x, ax, color, fill=True):\n",
        "    xs = kdeline.get_xdata()\n",
        "    ys = kdeline.get_ydata()\n",
        "    median = x.median()\n",
        "    ax.vlines(median, 0, np.interp(median, xs, ys), color=color, ls=':', lw=2)\n",
        "    if fill:\n",
        "        ax.fill_between(xs, 0, ys, facecolor=color, alpha=0.2)\n",
        "    "
      ]
    },
    {
      "cell_type": "code",
      "execution_count": 12,
      "metadata": {
        "id": "Y2NqPYNzM_lE"
      },
      "outputs": [],
      "source": [
        "def plot_mean(kdeline, x, ax, color, fill=True, fill_std=True):\n",
        "    xs = kdeline.get_xdata()\n",
        "    ys = kdeline.get_ydata()\n",
        "    mean = x.mean()\n",
        "    sdev = x.std()\n",
        "    left = mean - sdev\n",
        "    right = mean + sdev\n",
        "\n",
        "    ax.vlines(mean, 0, np.interp(mean, xs, ys), color=color, ls='--', lw=2)\n",
        "    if fill:\n",
        "        ax.fill_between(xs, 0, ys, facecolor=color, alpha=0.2)\n",
        "    ax.vlines(left, 0, np.interp(left, xs, ys), color=color, ls=':', lw=1)\n",
        "    ax.vlines(right, 0, np.interp(right, xs, ys), color=color, ls=':', lw=1)\n",
        "    if fill_std:\n",
        "        ax.fill_between(xs, 0, ys, where=(left <= xs) & (xs <= right), interpolate=True, facecolor=color, alpha=0.2)"
      ]
    },
    {
      "cell_type": "markdown",
      "metadata": {
        "id": "tOCLUhU5P5bT"
      },
      "source": [
        "### 5.2 Dropout distribution"
      ]
    },
    {
      "cell_type": "code",
      "execution_count": 2,
      "metadata": {
        "id": "EDD1hKrCGI2Y"
      },
      "outputs": [],
      "source": [
        "def plot_distr_dropout(df, ax):\n",
        "    _ = (df['Dropout'].value_counts(normalize=True)*100).plot(kind = 'barh', color=[steel_blue, orange_red], axes=ax)\n",
        "    _ = ax.set_ylabel(\"Dropout\", labelpad=10, fontsize=18)\n",
        "    _ = ax.set_xlabel(\"Percentage (%)\", labelpad=10, fontsize=18)\n",
        "    labels = [item.get_text() for item in ax.get_yticklabels()]\n",
        "    labels[0] = 'No'\n",
        "    labels[1] = 'Yes'\n",
        "    _ = ax.set_yticklabels(labels, rotation=0)\n",
        "    plt.xticks(fontsize=14)\n",
        "    plt.yticks(fontsize=14)\n",
        "    #plt.title('Distribution of Dropout')"
      ]
    },
    {
      "cell_type": "code",
      "execution_count": 4,
      "metadata": {},
      "outputs": [],
      "source": [
        "sentinels = ['None', 'n.d.', ' ', '']\n",
        "df = pd.read_csv('assets/yid_out.tsv', sep='\\t', na_values=sentinels)"
      ]
    },
    {
      "cell_type": "code",
      "execution_count": 7,
      "metadata": {
        "colab": {
          "base_uri": "https://localhost:8080/",
          "height": 299
        },
        "id": "Biua9d7lZesm",
        "outputId": "4b52907c-876b-462b-a5bf-4ef186bbaee7"
      },
      "outputs": [
        {
          "data": {
            "image/png": "[encoded data removed]",
            "text/plain": [
              "<Figure size 432x288 with 1 Axes>"
            ]
          },
          "metadata": {},
          "output_type": "display_data"
        }
      ],
      "source": [
        "fig, ax = plt.subplots(1, 1, figsize=(6,4))\n",
        "plot_distr_dropout(df, ax)"
      ]
    },
    {
      "cell_type": "markdown",
      "metadata": {
        "id": "THxPv8tSQG3R"
      },
      "source": [
        "### 5.3 Impact of academic performance on dropout"
      ]
    },
    {
      "cell_type": "markdown",
      "metadata": {
        "id": "fAGDnUwCSJ6n"
      },
      "source": [
        "#### 5.3.1 Average Grade"
      ]
    },
    {
      "cell_type": "code",
      "execution_count": 10,
      "metadata": {
        "id": "IWOOIFKwS8zu"
      },
      "outputs": [],
      "source": [
        "df_mv = df[(df[\"mediaVoto\"] >= 18) & (df[\"mediaVoto\"] <=31)]\n",
        "df_mv_do = df_mv[df_mv[\"Dropout\"]==True][\"mediaVoto\"]\n",
        "df_mv_ndo = df_mv[df_mv[\"Dropout\"]==False][\"mediaVoto\"]"
      ]
    },
    {
      "cell_type": "code",
      "execution_count": 11,
      "metadata": {
        "colab": {
          "base_uri": "https://localhost:8080/"
        },
        "id": "D25rEfSrN75z",
        "outputId": "3abdb498-fc35-41a5-f596-76fa68b04693"
      },
      "outputs": [
        {
          "name": "stdout",
          "output_type": "stream",
          "text": [
            "Mean avg. grade (DROPOUT): 24.981\n",
            "Median avg. grade (DROPOUT): 25.000\n",
            "Mean avg. grade (NON-DROPOUT): 25.629\n",
            "Median avg. grade (NON-DROPOUT): 26.000\n"
          ]
        }
      ],
      "source": [
        "print(\"Mean avg. grade (DROPOUT): {:.3f}\".format(df_mv_do.mean()))\n",
        "print(\"Median avg. grade (DROPOUT): {:.3f}\".format(df_mv_do.median()))\n",
        "print(\"Mean avg. grade (NON-DROPOUT): {:.3f}\".format(df_mv_ndo.mean()))\n",
        "print(\"Median avg. grade (NON-DROPOUT): {:.3f}\".format(df_mv_ndo.median()))"
      ]
    },
    {
      "cell_type": "code",
      "execution_count": 3,
      "metadata": {
        "id": "lXuhxfbQ6hLs"
      },
      "outputs": [],
      "source": [
        "def ecdf_avg_grade(df, ax):\n",
        "    x_drop = df[df[\"Dropout\"]==True][\"mediaVoto\"]\n",
        "    x_non_drop = df[df[\"Dropout\"]==False][\"mediaVoto\"]\n",
        "    \n",
        "    _ = sns.kdeplot(x_non_drop, color=steel_blue, shade=False, cumulative=True, ax=ax)\n",
        "    _ = sns.kdeplot(x_drop, color=orange_red, shade=False, cumulative=True, ax=ax)\n",
        "    plt.xlim([18, 31])\n",
        "    plot_median(ax.lines[0], x_non_drop, ax, color=steel_blue, fill=False)\n",
        "    plot_median(ax.lines[1], x_drop, ax, color=orange_red, fill=False)\n",
        "    _ = ax.set_xlabel(\"Average Grade\", labelpad=10, fontsize=18)\n",
        "    _ = ax.set_ylabel(\"Density\", labelpad=10, fontsize=18)\n",
        "    plt.xticks(fontsize=14)\n",
        "    plt.yticks(fontsize=14)\n",
        "\n",
        "    handles, labels = plt.gca().get_legend_handles_labels()\n",
        "    #drop = plt.Rectangle((0, 0), 1, 1, fc=clr.to_rgba(orange_red, alpha=0.2), ec=orange_red)\n",
        "    #non_drop = plt.Rectangle((0, 0), 1, 1, fc=clr.to_rgba(steel_blue, alpha=0.2), ec=steel_blue)\n",
        "    drop = plt.Line2D([0], [0], color=orange_red, lw=2)\n",
        "    non_drop = plt.Line2D([0], [0], color=steel_blue, lw=2)\n",
        "    _ = plt.legend([handle for i,handle in enumerate(handles) if i in display]+[drop, non_drop],\n",
        "               [label for i,label in enumerate(labels) if i in display]+[\"Yes\", \"No\"], \n",
        "               handlelength=1.6, handleheight=0, title=\"Dropout\", fontsize=14, title_fontsize=16, fancybox=True)"
      ]
    },
    {
      "cell_type": "code",
      "execution_count": 4,
      "metadata": {
        "id": "ruAwTORdXO-5"
      },
      "outputs": [],
      "source": [
        "def box_plot_avg_grade(df, ax):\n",
        "    x_drop = df[df[\"Dropout\"]==True][\"mediaVoto\"]\n",
        "    x_non_drop = df[df[\"Dropout\"]==False][\"mediaVoto\"]\n",
        "\n",
        "    _ = sns.boxplot(x=\"Dropout\", y=df[\"mediaVoto\"], data=df, palette=[steel_blue, orange_red], ax=ax)\n",
        "    _ = ax.set_xlabel(\"Dropout\", labelpad=10, fontsize=18)\n",
        "    _ = ax.set_ylabel(\"Avg. Grade\", labelpad=10, fontsize=18)\n",
        "    labels = [item.get_text() for item in ax.get_xticklabels()]\n",
        "    labels[0] = 'No'\n",
        "    labels[1] = 'Yes'\n",
        "    _ = ax.set_xticklabels(labels, rotation=0)\n",
        "    plt.xticks(fontsize=14)\n",
        "    plt.yticks(fontsize=14)"
      ]
    },
    {
      "cell_type": "code",
      "execution_count": 14,
      "metadata": {
        "colab": {
          "base_uri": "https://localhost:8080/",
          "height": 407
        },
        "id": "kc3ZtFE268pD",
        "outputId": "559a2686-304d-4e2a-c3c5-0aad04ae9b7d"
      },
      "outputs": [
        {
          "data": {
            "image/png": "[encoded data removed]",
            "text/plain": [
              "<Figure size 576x432 with 1 Axes>"
            ]
          },
          "metadata": {},
          "output_type": "display_data"
        }
      ],
      "source": [
        "fig, ax = plt.subplots(1, 1, figsize=(8,6))\n",
        "ecdf_avg_grade(df_mv, ax)"
      ]
    },
    {
      "cell_type": "code",
      "execution_count": 15,
      "metadata": {
        "colab": {
          "base_uri": "https://localhost:8080/",
          "height": 407
        },
        "id": "jC6lfhqIYPkN",
        "outputId": "a458ca58-2335-46da-bf7d-6fcf80f0c4a2"
      },
      "outputs": [
        {
          "data": {
            "image/png": "[encoded data removed]",
            "text/plain": [
              "<Figure size 576x432 with 1 Axes>"
            ]
          },
          "metadata": {},
          "output_type": "display_data"
        }
      ],
      "source": [
        "fig, ax = plt.subplots(1, 1, figsize=(8,6))\n",
        "box_plot_avg_grade(df_mv, ax)"
      ]
    },
    {
      "cell_type": "markdown",
      "metadata": {
        "id": "VDrxE0auTcqH"
      },
      "source": [
        "##### Two-sample Kolmogorov-Smirnov test"
      ]
    },
    {
      "cell_type": "code",
      "execution_count": 16,
      "metadata": {
        "colab": {
          "base_uri": "https://localhost:8080/"
        },
        "id": "27h_lU1aB1F0",
        "outputId": "a8a17395-9c0c-4f51-88ad-e3e00e7eb1ec"
      },
      "outputs": [
        {
          "name": "stdout",
          "output_type": "stream",
          "text": [
            "7.883884317363242 6.931373953828654\n"
          ]
        }
      ],
      "source": [
        "print(np.var(df_mv_do), np.var(df_mv_ndo))"
      ]
    },
    {
      "cell_type": "code",
      "execution_count": 17,
      "metadata": {
        "colab": {
          "base_uri": "https://localhost:8080/"
        },
        "id": "HwFgx7YLKVlZ",
        "outputId": "ee542fd7-c9db-4158-b1f3-572681eb8a24"
      },
      "outputs": [
        {
          "data": {
            "text/plain": [
              "KstestResult(statistic=0.09825844518344923, pvalue=9.761672837684112e-90)"
            ]
          },
          "execution_count": 17,
          "metadata": {},
          "output_type": "execute_result"
        }
      ],
      "source": [
        "sp.ks_2samp(df_mv_do, df_mv_ndo)"
      ]
    },
    {
      "cell_type": "markdown",
      "metadata": {
        "id": "Ey9SDqxCUSSr"
      },
      "source": [
        "#### 5.3.2 Average High School Grade"
      ]
    },
    {
      "cell_type": "code",
      "execution_count": 18,
      "metadata": {
        "id": "5NF8fO7sUYjl"
      },
      "outputs": [],
      "source": [
        "df_hs = df[(df[\"votoDiploma\"] >= 60) & (df[\"votoDiploma\"] <=100)]\n",
        "df_hs_do = df_hs[df_hs[\"Dropout\"]==True][\"votoDiploma\"]\n",
        "df_hs_ndo = df_hs[df_hs[\"Dropout\"]==False][\"votoDiploma\"]"
      ]
    },
    {
      "cell_type": "code",
      "execution_count": 19,
      "metadata": {
        "colab": {
          "base_uri": "https://localhost:8080/"
        },
        "id": "fmtsPXasU4FS",
        "outputId": "15eee0fc-bd18-423f-d749-44198b658723"
      },
      "outputs": [
        {
          "name": "stdout",
          "output_type": "stream",
          "text": [
            "Mean avg. high school grade (DROPOUT): 80.863\n",
            "Median avg. high school grade (DROPOUT): 80.000\n",
            "Mean avg. high school grade (NON-DROPOUT): 81.078\n",
            "Median avg. high school grade (NON-DROPOUT): 80.000\n"
          ]
        }
      ],
      "source": [
        "print(\"Mean avg. high school grade (DROPOUT): {:.3f}\".format(df_hs_do.mean()))\n",
        "print(\"Median avg. high school grade (DROPOUT): {:.3f}\".format(df_hs_do.median()))\n",
        "print(\"Mean avg. high school grade (NON-DROPOUT): {:.3f}\".format(df_hs_ndo.mean()))\n",
        "print(\"Median avg. high school grade (NON-DROPOUT): {:.3f}\".format(df_hs_ndo.median()))"
      ]
    },
    {
      "cell_type": "code",
      "execution_count": 20,
      "metadata": {
        "id": "nt9I3v8i_hXI"
      },
      "outputs": [],
      "source": [
        "def ecdf_hs_grade(df, ax):\n",
        "    x_drop = df[df[\"Dropout\"]==True][\"votoDiploma\"]\n",
        "    x_non_drop = df[df[\"Dropout\"]==False][\"votoDiploma\"]\n",
        "    _ = sns.kdeplot(x_non_drop, color=steel_blue, shade=False, cumulative=True, ax=ax)\n",
        "    _ = sns.kdeplot(x_drop, color=orange_red, shade=False, cumulative=True, ax=ax)\n",
        "    plt.xlim([60, 100])\n",
        "    plot_median(ax.lines[0], x_non_drop, ax, color=steel_blue, fill=False)\n",
        "    plot_median(ax.lines[1], x_drop, ax, color=orange_red, fill=False)\n",
        "    _ = ax.set_xlabel(\"High School Grade\", labelpad=10, fontsize=18)\n",
        "    _ = ax.set_ylabel(\"ECDF\", labelpad=10, fontsize=18)\n",
        "    plt.xticks(fontsize=14)\n",
        "    plt.yticks(fontsize=14)\n",
        "\n",
        "    handles, labels = plt.gca().get_legend_handles_labels()\n",
        "    drop = plt.Line2D([0], [0], color=orange_red, lw=2)\n",
        "    non_drop = plt.Line2D([0], [0], color=steel_blue, lw=2)\n",
        "    _ = plt.legend([handle for i,handle in enumerate(handles) if i in display]+[drop, non_drop],\n",
        "               [label for i,label in enumerate(labels) if i in display]+[\"Yes\", \"No\"], \n",
        "               handlelength=1.6, handleheight=0, title=\"Dropout\", fontsize=14, title_fontsize=16, fancybox=True)"
      ]
    },
    {
      "cell_type": "code",
      "execution_count": 21,
      "metadata": {
        "id": "_Ay9PMzIkGND"
      },
      "outputs": [],
      "source": [
        "def box_plot_hs_grade(df, ax):\n",
        "    x_drop = df[df[\"Dropout\"]==True][\"votoDiploma\"]\n",
        "    x_non_drop = df[df[\"Dropout\"]==False][\"votoDiploma\"]\n",
        "\n",
        "    _ = sns.boxplot(x=\"Dropout\", y=df[\"votoDiploma\"], data=df, palette=[steel_blue, orange_red], ax=ax)\n",
        "    _ = ax.set_xlabel(\"Dropout\", labelpad=10, fontsize=18)\n",
        "    _ = ax.set_ylabel(\"High School Grade\", labelpad=10, fontsize=18)\n",
        "    labels = [item.get_text() for item in ax.get_xticklabels()]\n",
        "    labels[0] = 'No'\n",
        "    labels[1] = 'Yes'\n",
        "    _ = ax.set_xticklabels(labels, rotation=0)\n",
        "    plt.xticks(fontsize=14)\n",
        "    plt.yticks(fontsize=14)"
      ]
    },
    {
      "cell_type": "code",
      "execution_count": 22,
      "metadata": {
        "colab": {
          "base_uri": "https://localhost:8080/",
          "height": 407
        },
        "id": "7rC7whG1_vso",
        "outputId": "f3c99e2c-0bb4-4e0f-ae99-1715f0f28ec7"
      },
      "outputs": [
        {
          "data": {
            "image/png": "[encoded data removed]",
            "text/plain": [
              "<Figure size 576x432 with 1 Axes>"
            ]
          },
          "metadata": {},
          "output_type": "display_data"
        }
      ],
      "source": [
        "fig, ax = plt.subplots(1, 1, figsize=(8,6))\n",
        "ecdf_hs_grade(df_hs, ax)"
      ]
    },
    {
      "cell_type": "code",
      "execution_count": 23,
      "metadata": {
        "colab": {
          "base_uri": "https://localhost:8080/",
          "height": 407
        },
        "id": "MfzVchSIj_OW",
        "outputId": "352fb2cd-c84a-4d2d-914d-8fa3363e8881"
      },
      "outputs": [
        {
          "data": {
            "image/png": "[encoded data removed]",
            "text/plain": [
              "<Figure size 576x432 with 1 Axes>"
            ]
          },
          "metadata": {},
          "output_type": "display_data"
        }
      ],
      "source": [
        "fig, ax = plt.subplots(1, 1, figsize=(8,6))\n",
        "box_plot_hs_grade(df_hs, ax)"
      ]
    },
    {
      "cell_type": "markdown",
      "metadata": {
        "id": "o11W7ycoVfoQ"
      },
      "source": [
        "##### Two-sample Kolmogorov-Smirnov test"
      ]
    },
    {
      "cell_type": "code",
      "execution_count": null,
      "metadata": {
        "colab": {
          "base_uri": "https://localhost:8080/"
        },
        "id": "x6Pf7aoOVime",
        "outputId": "83438319-dcfd-4ea3-a9ca-b030a710166d"
      },
      "outputs": [
        {
          "name": "stdout",
          "output_type": "stream",
          "text": [
            "146.0552370039591 144.43408941721594\n"
          ]
        }
      ],
      "source": [
        "print(np.var(df_hs_do), np.var(df_hs_ndo))"
      ]
    },
    {
      "cell_type": "code",
      "execution_count": null,
      "metadata": {
        "colab": {
          "base_uri": "https://localhost:8080/"
        },
        "id": "tmRnbiq6VogM",
        "outputId": "665bf1e2-a454-4091-d9b2-a9cf16c89e3f"
      },
      "outputs": [
        {
          "data": {
            "text/plain": [
              "Ks_2sampResult(statistic=0.023733691481197305, pvalue=0.027097190096926262)"
            ]
          },
          "execution_count": 29,
          "metadata": {},
          "output_type": "execute_result"
        }
      ],
      "source": [
        "sp.ks_2samp(df_hs_do, df_hs_ndo)"
      ]
    },
    {
      "cell_type": "markdown",
      "metadata": {
        "id": "Y86BccGsWJxu"
      },
      "source": [
        "### 5.4 Impact of socio-economical factors on dropout"
      ]
    },
    {
      "cell_type": "markdown",
      "metadata": {
        "id": "KkW0R4CNWQZs"
      },
      "source": [
        "#### 5.4.1 Annual Income"
      ]
    },
    {
      "cell_type": "code",
      "execution_count": 24,
      "metadata": {
        "id": "uML-d56OWTmK"
      },
      "outputs": [],
      "source": [
        "df_inc = df.dropna(subset = [\"valoreIntero\"])\n",
        "#df_inc = df_inc.replace('\\n','', regex=True)\n",
        "df_inc = df_inc[(df_inc[\"valoreIntero\"] != 50000) & (df_inc[\"valoreIntero\"] < 1000000)]\n",
        "df_inc_do = df_inc[df_inc[\"Dropout\"]==True][\"valoreIntero\"]\n",
        "df_inc_ndo = df_inc[df_inc[\"Dropout\"]==False][\"valoreIntero\"]"
      ]
    },
    {
      "cell_type": "code",
      "execution_count": 25,
      "metadata": {
        "colab": {
          "base_uri": "https://localhost:8080/"
        },
        "id": "nWw8TBISWfdE",
        "outputId": "abaf15cd-a3b1-4e46-ec70-655e4343386d"
      },
      "outputs": [
        {
          "name": "stdout",
          "output_type": "stream",
          "text": [
            "Mean annual income (DROPOUT): 24036.989\n",
            "Median annual income (DROPOUT): 19158.000\n",
            "Mean annual income (NON-DROPOUT): 25230.513\n",
            "Median annual income (NON-DROPOUT): 20499.000\n"
          ]
        }
      ],
      "source": [
        "print(\"Mean annual income (DROPOUT): {:.3f}\".format(df_inc_do.mean()))\n",
        "print(\"Median annual income (DROPOUT): {:.3f}\".format(df_inc_do.median()))\n",
        "print(\"Mean annual income (NON-DROPOUT): {:.3f}\".format(df_inc_ndo.mean()))\n",
        "print(\"Median annual income (NON-DROPOUT): {:.3f}\".format(df_inc_ndo.median()))"
      ]
    },
    {
      "cell_type": "code",
      "execution_count": 26,
      "metadata": {
        "id": "CVGwO3B-GI2Z"
      },
      "outputs": [],
      "source": [
        "def box_plot_income(df, ax):\n",
        "    x_drop = df[df[\"Dropout\"]==True][\"valoreIntero\"]/1000\n",
        "    x_non_drop = df[df[\"Dropout\"]==False][\"valoreIntero\"]/1000\n",
        "    #_ = sns.kdeplot(data=df, x=x, hue=df[\"Dropout\"], palette=[steel_blue, orange_red], shade=False, cumulative=False, ax=ax)\n",
        "    #_ = sns.kdeplot(x_non_drop, color=steel_blue, shade=False, cumulative=False, ax=ax)\n",
        "    #_ = sns.kdeplot(x_drop, color=orange_red, shade=False, cumulative=False, ax=ax)\n",
        "    _ = sns.boxplot(x=\"Dropout\", y=df[\"valoreIntero\"]/1000, data=df, palette=[steel_blue, orange_red], ax=ax)\n",
        "    _ = ax.set_xlabel(\"Dropout\", labelpad=10, fontsize=18)\n",
        "    _ = ax.set_ylabel(\"Annual Income (x 1,000 Euros)\", labelpad=10, fontsize=18)\n",
        "    plt.xticks(fontsize=14)\n",
        "    plt.yticks(fontsize=14)"
      ]
    },
    {
      "cell_type": "code",
      "execution_count": 27,
      "metadata": {
        "colab": {
          "base_uri": "https://localhost:8080/",
          "height": 407
        },
        "id": "nfRdq6-EILjP",
        "outputId": "3811ee3f-fe9a-4fb7-f1b4-b767e2eceadd"
      },
      "outputs": [
        {
          "data": {
            "image/png": "[encoded data removed]",
            "text/plain": [
              "<Figure size 576x432 with 1 Axes>"
            ]
          },
          "metadata": {},
          "output_type": "display_data"
        }
      ],
      "source": [
        "fig, ax = plt.subplots(1, 1, figsize=(8,6))\n",
        "box_plot_income(df_inc, ax)"
      ]
    },
    {
      "cell_type": "markdown",
      "metadata": {
        "id": "QBRSMxWVkrHr"
      },
      "source": [
        "##### Two-sample Kolmogorov-Smirnov test"
      ]
    },
    {
      "cell_type": "code",
      "execution_count": 28,
      "metadata": {
        "colab": {
          "base_uri": "https://localhost:8080/"
        },
        "id": "1uNkvwnIkrHs",
        "outputId": "e8432d8b-8ba1-46fa-f6d2-9313ccacc734"
      },
      "outputs": [
        {
          "name": "stdout",
          "output_type": "stream",
          "text": [
            "422669403.38641953 418297035.61675614\n"
          ]
        }
      ],
      "source": [
        "print(np.var(df_inc_do), np.var(df_inc_ndo))"
      ]
    },
    {
      "cell_type": "code",
      "execution_count": 29,
      "metadata": {
        "colab": {
          "base_uri": "https://localhost:8080/"
        },
        "id": "gLGHivO1krHs",
        "outputId": "8286b0ac-3383-428b-f4ab-d97d19c83d7c"
      },
      "outputs": [
        {
          "data": {
            "text/plain": [
              "KstestResult(statistic=0.03718558094665997, pvalue=7.381034026692478e-08)"
            ]
          },
          "execution_count": 29,
          "metadata": {},
          "output_type": "execute_result"
        }
      ],
      "source": [
        "sp.ks_2samp(df_inc_do, df_inc_ndo)"
      ]
    },
    {
      "cell_type": "markdown",
      "metadata": {
        "id": "mYZgsiF-W3gR"
      },
      "source": [
        "### 5.5 Impact of geographical factors on dropout"
      ]
    },
    {
      "cell_type": "markdown",
      "metadata": {
        "id": "7Z7RPPLLXHOS"
      },
      "source": [
        "#### 5.5.1 Nationality"
      ]
    },
    {
      "cell_type": "code",
      "execution_count": 30,
      "metadata": {
        "id": "1zSMyFNgUyLr"
      },
      "outputs": [],
      "source": [
        "def plot_by_cat(df, cat, cat_label, ax):\n",
        "    df_grp = df.groupby(cat)[\"Dropout\"]\n",
        "    df_grp_vals = df_grp.value_counts(normalize=True).mul(100).rename('percent').reset_index()\n",
        "    _ = sns.barplot(x=\"percent\", y=cat, data=df_grp_vals, hue='Dropout', palette=[steel_blue, orange_red], orient=\"h\", ax=ax)\n",
        "    _ = ax.set_xlabel(\"Percentage (%)\", labelpad=10, fontsize=18)\n",
        "    _ = ax.set_ylabel(cat_label, labelpad=10, fontsize=18)\n",
        "    plt.xticks(fontsize=14)\n",
        "    plt.yticks(fontsize=14)\n",
        "    drop_patch = mpatches.Patch(color=orange_red, label='Yes')\n",
        "    non_drop_patch = mpatches.Patch(color=steel_blue, label='No')\n",
        "    plt.legend(title='Dropout', loc='best', bbox_to_anchor=(1, 1.02), handles=[drop_patch, non_drop_patch], fontsize=14, title_fontsize=16, fancybox=True)\n",
        "    \n",
        "    #(df.groupby('cittadinanza')['Dropout'].value_counts(normalize=True).mul(100).rename('percent').reset_index().pipe((sns.catplot,'data'), x='cittadinanza',y='percent',hue='Dropout',kind='bar', palette=[steel_blue, orange_red]))"
      ]
    },
    {
      "cell_type": "code",
      "execution_count": 31,
      "metadata": {
        "colab": {
          "base_uri": "https://localhost:8080/",
          "height": 299
        },
        "id": "Cj71oxJ0W7vp",
        "outputId": "304d1eab-e915-4004-98de-e301561a8436"
      },
      "outputs": [
        {
          "data": {
            "image/png": "[encoded data removed]",
            "text/plain": [
              "<Figure size 576x288 with 1 Axes>"
            ]
          },
          "metadata": {},
          "output_type": "display_data"
        }
      ],
      "source": [
        "fig, ax = plt.subplots(figsize=(8, 4))\n",
        "plot_by_cat(df, \"cittadinanza\", \"Nationality\", ax)"
      ]
    },
    {
      "cell_type": "markdown",
      "metadata": {
        "id": "Y0Rrw3rd5miM"
      },
      "source": [
        "##### Two-sample z-test for proportions"
      ]
    },
    {
      "cell_type": "code",
      "execution_count": 32,
      "metadata": {
        "colab": {
          "base_uri": "https://localhost:8080/"
        },
        "id": "DsMQ6gBYxZbK",
        "outputId": "120442e9-04b1-47bf-d768-03cc5b5e1ccd"
      },
      "outputs": [
        {
          "name": "stdout",
          "output_type": "stream",
          "text": [
            "z_stat: -0.824, p_value: 0.410\n",
            "Fail to reject the null hypothesis - we have nothing else to say\n"
          ]
        }
      ],
      "source": [
        "from statsmodels.stats.proportion import proportions_ztest\n",
        "# can we assume anything from our sample\n",
        "significance = 0.01\n",
        "# note - the samples do not need to be the same size\n",
        "sample_success_non_UE, sample_size_non_UE = (df[(df[\"cittadinanza\"] == \"Extra-UE\") & (df[\"Dropout\"] == True)].shape[0], df[df[\"cittadinanza\"] == \"Extra-UE\"].shape[0])\n",
        "sample_success_ITA, sample_size_ITA = (df[(df[\"cittadinanza\"] == \"ITA\") & (df[\"Dropout\"] == True)].shape[0], df[df[\"cittadinanza\"] == \"ITA\"].shape[0])\n",
        "# check our sample against Ho for Ha != Ho\n",
        "successes = np.array([sample_success_non_UE, sample_success_ITA])\n",
        "samples = np.array([sample_size_non_UE, sample_size_ITA])\n",
        "# note, no need for a Ho value here - it's derived from the other parameters\n",
        "stat, p_value = proportions_ztest(count=successes, nobs=samples,  alternative='two-sided')\n",
        "# report\n",
        "print('z_stat: %0.3f, p_value: %0.3f' % (stat, p_value))\n",
        "if p_value > significance:\n",
        "    print (\"Fail to reject the null hypothesis - we have nothing else to say\")\n",
        "else:\n",
        "    print (\"Reject the null hypothesis - suggest the alternative hypothesis is true\")"
      ]
    },
    {
      "cell_type": "markdown",
      "metadata": {
        "id": "6b5zB_jwebov"
      },
      "source": [
        "### 5.6 Model performance on the test set"
      ]
    },
    {
      "cell_type": "code",
      "execution_count": 33,
      "metadata": {
        "id": "dpyUPgTjejxE"
      },
      "outputs": [],
      "source": [
        "results = {'Method': ['RF', 'GBDT', 'LR', 'SVM', 'MLP'], \n",
        "           'Precision': [0.90, 0.92, 0.84, 0.87, 0.89],\n",
        "           'Recall': [0.92, 0.91, 0.88, 0.90, 0.87],\n",
        "           'F1 score': [0.91, 0.92, 0.85, 0.88, 0.88]\n",
        "}\n",
        "# DT AUC = 0.98\n",
        "# RF AUC = 0.98\n",
        "# GBDT AUC = 0.99\n",
        "# LR AUC = 0.84\n",
        "# SVM AUC = 0.83\n",
        "# MLP AUC = 0.94"
      ]
    },
    {
      "cell_type": "code",
      "execution_count": 34,
      "metadata": {
        "id": "xKFN7hd2fWZ6"
      },
      "outputs": [],
      "source": [
        "res_df = pd.DataFrame(results)"
      ]
    },
    {
      "cell_type": "code",
      "execution_count": 35,
      "metadata": {
        "colab": {
          "base_uri": "https://localhost:8080/",
          "height": 238
        },
        "id": "cRfR2vhlfdM7",
        "outputId": "641b924d-0693-44c3-92e1-64cde856e4f3"
      },
      "outputs": [
        {
          "data": {
            "text/html": [
              "<div>\n",
              "<style scoped>\n",
              "    .dataframe tbody tr th:only-of-type {\n",
              "        vertical-align: middle;\n",
              "    }\n",
              "\n",
              "    .dataframe tbody tr th {\n",
              "        vertical-align: top;\n",
              "    }\n",
              "\n",
              "    .dataframe thead th {\n",
              "        text-align: right;\n",
              "    }\n",
              "</style>\n",
              "<table border=\"1\" class=\"dataframe\">\n",
              "  <thead>\n",
              "    <tr style=\"text-align: right;\">\n",
              "      <th></th>\n",
              "      <th>Method</th>\n",
              "      <th>Precision</th>\n",
              "      <th>Recall</th>\n",
              "      <th>F1 score</th>\n",
              "    </tr>\n",
              "  </thead>\n",
              "  <tbody>\n",
              "    <tr>\n",
              "      <th>0</th>\n",
              "      <td>RF</td>\n",
              "      <td>0.90</td>\n",
              "      <td>0.92</td>\n",
              "      <td>0.91</td>\n",
              "    </tr>\n",
              "    <tr>\n",
              "      <th>1</th>\n",
              "      <td>GBDT</td>\n",
              "      <td>0.92</td>\n",
              "      <td>0.91</td>\n",
              "      <td>0.92</td>\n",
              "    </tr>\n",
              "    <tr>\n",
              "      <th>2</th>\n",
              "      <td>LR</td>\n",
              "      <td>0.84</td>\n",
              "      <td>0.88</td>\n",
              "      <td>0.85</td>\n",
              "    </tr>\n",
              "    <tr>\n",
              "      <th>3</th>\n",
              "      <td>SVM</td>\n",
              "      <td>0.87</td>\n",
              "      <td>0.90</td>\n",
              "      <td>0.88</td>\n",
              "    </tr>\n",
              "    <tr>\n",
              "      <th>4</th>\n",
              "      <td>MLP</td>\n",
              "      <td>0.89</td>\n",
              "      <td>0.87</td>\n",
              "      <td>0.88</td>\n",
              "    </tr>\n",
              "  </tbody>\n",
              "</table>\n",
              "</div>"
            ],
            "text/plain": [
              "  Method  Precision  Recall  F1 score\n",
              "0     RF       0.90    0.92      0.91\n",
              "1   GBDT       0.92    0.91      0.92\n",
              "2     LR       0.84    0.88      0.85\n",
              "3    SVM       0.87    0.90      0.88\n",
              "4    MLP       0.89    0.87      0.88"
            ]
          },
          "execution_count": 35,
          "metadata": {},
          "output_type": "execute_result"
        }
      ],
      "source": [
        "res_df.head(10)"
      ]
    },
    {
      "cell_type": "code",
      "execution_count": 36,
      "metadata": {
        "id": "XKk8ce09hHPo"
      },
      "outputs": [],
      "source": [
        "def plot_res(df, ax):\n",
        "    df.plot(x=\"Method\", y=[\"Precision\", \"Recall\", \"F1 score\"], kind=\"bar\", color=[steel_blue, orange_red, \"forestgreen\"], ax=ax)\n",
        "    plt.legend(loc='best', bbox_to_anchor=(1, 1.02), fontsize=16, fancybox=True)\n",
        "    _ = ax.set_xlabel(\"Method\", labelpad=10, fontsize=18)\n",
        "    labels = [item.get_text() for item in ax.get_xticklabels()]\n",
        "    _ = ax.set_xticklabels(labels, rotation=0)\n",
        "    plt.xticks(fontsize=14)\n",
        "    plt.yticks(fontsize=14)\n",
        "    # get all bars in the plot\n",
        "    # bars = ax.patches\n",
        "    # patterns = ['|', '-', '+']  # set hatch patterns in the correct order\n",
        "    # hatches = []  # list for hatches in the order of the bars\n",
        "    # for h in patterns:  # loop over patterns to create bar-ordered hatches\n",
        "    #     for i in range(int(len(bars) / len(patterns))):\n",
        "    #         hatches.append(h)\n",
        "    # for bar, hatch in zip(bars, hatches):  # loop over bars and hatches to set hatches in correct order\n",
        "    #     bar.set_hatch(hatch)"
      ]
    },
    {
      "cell_type": "code",
      "execution_count": 37,
      "metadata": {
        "colab": {
          "base_uri": "https://localhost:8080/",
          "height": 407
        },
        "id": "1Nt56C-HfkO6",
        "outputId": "747f1ab8-5d3f-4a91-9ed1-9d2665e627b6"
      },
      "outputs": [
        {
          "data": {
            "image/png": "[encoded data removed]",
            "text/plain": [
              "<Figure size 720x432 with 1 Axes>"
            ]
          },
          "metadata": {},
          "output_type": "display_data"
        }
      ],
      "source": [
        "fig, ax = plt.subplots(figsize=(10, 6))\n",
        "plot_res(res_df, ax)"
      ]
    },
    {
      "cell_type": "markdown",
      "metadata": {
        "id": "gWoUwunD-g-U"
      },
      "source": [
        "### 5.7 GBDT Feature Importance"
      ]
    },
    {
      "cell_type": "code",
      "execution_count": 38,
      "metadata": {
        "id": "gliCkcjG-G9r"
      },
      "outputs": [],
      "source": [
        "feat_df = pd.read_csv('assets/feat_importance.csv')"
      ]
    },
    {
      "cell_type": "code",
      "execution_count": 39,
      "metadata": {
        "id": "4j8oQyEB-zJK"
      },
      "outputs": [],
      "source": [
        "top_10_feat_df = feat_df.head(10)[[\"feature\",\"importance\"]]"
      ]
    },
    {
      "cell_type": "code",
      "execution_count": 41,
      "metadata": {
        "id": "P9E4FMrP-0P_"
      },
      "outputs": [],
      "source": [
        "feature_names = [\"lastEnrollment\", \"creditsEarned\", \"totalCredits\", \"avgGrade\", \"age\", \"HSDiplomaScore\", \"lastPassedExam\", \"hasPicture\", \"lastBookedExam\", \"creditsBooked\"]"
      ]
    },
    {
      "cell_type": "code",
      "execution_count": 42,
      "metadata": {
        "id": "Xn-_NewN_ZA7"
      },
      "outputs": [],
      "source": [
        "top_10_feat_df[\"feature_names\"] = feature_names"
      ]
    },
    {
      "cell_type": "code",
      "execution_count": 43,
      "metadata": {
        "colab": {
          "base_uri": "https://localhost:8080/",
          "height": 363
        },
        "id": "UF7-D_hBAjbr",
        "outputId": "84408cf8-6924-4549-a736-545434a5d574"
      },
      "outputs": [
        {
          "data": {
            "text/html": [
              "<div>\n",
              "<style scoped>\n",
              "    .dataframe tbody tr th:only-of-type {\n",
              "        vertical-align: middle;\n",
              "    }\n",
              "\n",
              "    .dataframe tbody tr th {\n",
              "        vertical-align: top;\n",
              "    }\n",
              "\n",
              "    .dataframe thead th {\n",
              "        text-align: right;\n",
              "    }\n",
              "</style>\n",
              "<table border=\"1\" class=\"dataframe\">\n",
              "  <thead>\n",
              "    <tr style=\"text-align: right;\">\n",
              "      <th></th>\n",
              "      <th>feature</th>\n",
              "      <th>importance</th>\n",
              "      <th>feature_names</th>\n",
              "    </tr>\n",
              "  </thead>\n",
              "  <tbody>\n",
              "    <tr>\n",
              "      <th>0</th>\n",
              "      <td>ultIscr</td>\n",
              "      <td>0.530623</td>\n",
              "      <td>lastEnrollment</td>\n",
              "    </tr>\n",
              "    <tr>\n",
              "      <th>1</th>\n",
              "      <td>cfuTake</td>\n",
              "      <td>0.227225</td>\n",
              "      <td>creditsEarned</td>\n",
              "    </tr>\n",
              "    <tr>\n",
              "      <th>2</th>\n",
              "      <td>creditiTotali</td>\n",
              "      <td>0.065688</td>\n",
              "      <td>totalCredits</td>\n",
              "    </tr>\n",
              "    <tr>\n",
              "      <th>3</th>\n",
              "      <td>mediaVoto</td>\n",
              "      <td>0.056243</td>\n",
              "      <td>avgGrade</td>\n",
              "    </tr>\n",
              "    <tr>\n",
              "      <th>4</th>\n",
              "      <td>eta</td>\n",
              "      <td>0.018118</td>\n",
              "      <td>age</td>\n",
              "    </tr>\n",
              "    <tr>\n",
              "      <th>5</th>\n",
              "      <td>votoDiploma</td>\n",
              "      <td>0.016630</td>\n",
              "      <td>HSDiplomaScore</td>\n",
              "    </tr>\n",
              "    <tr>\n",
              "      <th>6</th>\n",
              "      <td>ultSup</td>\n",
              "      <td>0.016327</td>\n",
              "      <td>lastPassedExam</td>\n",
              "    </tr>\n",
              "    <tr>\n",
              "      <th>7</th>\n",
              "      <td>flagIdentificato</td>\n",
              "      <td>0.011638</td>\n",
              "      <td>hasPicture</td>\n",
              "    </tr>\n",
              "    <tr>\n",
              "      <th>8</th>\n",
              "      <td>ultPren</td>\n",
              "      <td>0.011527</td>\n",
              "      <td>lastBookedExam</td>\n",
              "    </tr>\n",
              "    <tr>\n",
              "      <th>9</th>\n",
              "      <td>cfuPrenotati</td>\n",
              "      <td>0.011173</td>\n",
              "      <td>creditsBooked</td>\n",
              "    </tr>\n",
              "  </tbody>\n",
              "</table>\n",
              "</div>"
            ],
            "text/plain": [
              "            feature  importance   feature_names\n",
              "0           ultIscr    0.530623  lastEnrollment\n",
              "1           cfuTake    0.227225   creditsEarned\n",
              "2     creditiTotali    0.065688    totalCredits\n",
              "3         mediaVoto    0.056243        avgGrade\n",
              "4               eta    0.018118             age\n",
              "5       votoDiploma    0.016630  HSDiplomaScore\n",
              "6            ultSup    0.016327  lastPassedExam\n",
              "7  flagIdentificato    0.011638      hasPicture\n",
              "8           ultPren    0.011527  lastBookedExam\n",
              "9      cfuPrenotati    0.011173   creditsBooked"
            ]
          },
          "execution_count": 43,
          "metadata": {},
          "output_type": "execute_result"
        }
      ],
      "source": [
        "top_10_feat_df"
      ]
    },
    {
      "cell_type": "code",
      "execution_count": 44,
      "metadata": {
        "id": "vHwVntReAlbS"
      },
      "outputs": [],
      "source": [
        "def plot_feat_importance(df, ax):\n",
        "    _ = ax = sns.barplot(x=\"importance\", y=\"feature_names\", data=df, axes=ax)\n",
        "    _ = ax.set_ylabel(\"Feature\", labelpad=10, fontsize=18)\n",
        "    _ = ax.set_xlabel(\"Importance\", labelpad=10, fontsize=18)\n",
        "    plt.xticks(fontsize=14)\n",
        "    plt.yticks(fontsize=14)"
      ]
    },
    {
      "cell_type": "code",
      "execution_count": 45,
      "metadata": {
        "colab": {
          "base_uri": "https://localhost:8080/",
          "height": 407
        },
        "id": "eJMeH4rZBWmI",
        "outputId": "c54ffe5c-c1e5-46c5-b7da-8f377ab94d88"
      },
      "outputs": [
        {
          "data": {
            "image/png": "[encoded data removed]",
            "text/plain": [
              "<Figure size 576x432 with 1 Axes>"
            ]
          },
          "metadata": {},
          "output_type": "display_data"
        }
      ],
      "source": [
        "fig, ax = plt.subplots(figsize=(8, 6))\n",
        "plot_feat_importance(top_10_feat_df, ax)"
      ]
    },
    {
      "cell_type": "markdown",
      "metadata": {},
      "source": [
        "### Analysis of the on-line results"
      ]
    },
    {
      "cell_type": "code",
      "execution_count": 4,
      "metadata": {},
      "outputs": [
        {
          "name": "stdout",
          "output_type": "stream",
          "text": [
            "df.shape:  (6470, 3)\n"
          ]
        }
      ],
      "source": [
        "df = pd.read_csv('assets/results_2022-06-24T17 22 29.132166+00 00.csv', sep=',')\n",
        "print(\"df.shape: \", df.shape)"
      ]
    },
    {
      "cell_type": "code",
      "execution_count": 15,
      "metadata": {},
      "outputs": [
        {
          "data": {
            "text/plain": [
              "(array([-0.2,  0. ,  0.2,  0.4,  0.6,  0.8,  1. ,  1.2]),\n",
              " [Text(0, 0, ''),\n",
              "  Text(0, 0, ''),\n",
              "  Text(0, 0, ''),\n",
              "  Text(0, 0, ''),\n",
              "  Text(0, 0, ''),\n",
              "  Text(0, 0, ''),\n",
              "  Text(0, 0, ''),\n",
              "  Text(0, 0, '')])"
            ]
          },
          "execution_count": 15,
          "metadata": {},
          "output_type": "execute_result"
        },
        {
          "data": {
            "image/png": "[encoded data removed]",
            "text/plain": [
              "<Figure size 576x432 with 1 Axes>"
            ]
          },
          "metadata": {},
          "output_type": "display_data"
        }
      ],
      "source": [
        "fig, ax = plt.subplots(1, 1, figsize=(8,6))\n",
        "plt.plot(df.Dropout, color=steel_blue, linewidth=2)\n",
        "plt.vlines(50, 0, df.iloc[50]['Dropout'], color=orange_red, ls=':', lw=2)\n",
        "plt.text(00, -0.01, 'x = 50', fontsize=12, weight='bold', color='black')\n",
        "_ = ax.set_xlabel(\"Ranked Students\", labelpad=10, fontsize=18)\n",
        "_ = ax.set_ylabel(\"Predicted Probability of Dropout\", labelpad=10, fontsize=18)\n",
        "plt.xticks(fontsize=14)\n",
        "plt.yticks(fontsize=14)"
      ]
    },
    {
      "cell_type": "markdown",
      "metadata": {},
      "source": [
        "## Per analisi finale"
      ]
    },
    {
      "cell_type": "code",
      "execution_count": 20,
      "metadata": {},
      "outputs": [],
      "source": [
        "sentinels = ['None', 'n.d.', ' ', '']\n",
        "df = pd.read_csv('assets/Infostud SDP - Studenti contattati.csv', sep=',', na_values=sentinels)"
      ]
    },
    {
      "cell_type": "code",
      "execution_count": 21,
      "metadata": {},
      "outputs": [
        {
          "data": {
            "text/plain": [
              "Index(['Dropout', 'Nome', 'Cognome', 'Email istituzionale', 'Email personale',\n",
              "       'ID', 'ultimoAccesso', 'Prima iscrizione', 'Ultima iscrizione',\n",
              "       'ultimoSostenuto', 'mediaVoto'],\n",
              "      dtype='object')"
            ]
          },
          "execution_count": 21,
          "metadata": {},
          "output_type": "execute_result"
        }
      ],
      "source": [
        "df.columns"
      ]
    },
    {
      "cell_type": "markdown",
      "metadata": {},
      "source": [
        "### Media voto"
      ]
    },
    {
      "cell_type": "code",
      "execution_count": 6,
      "metadata": {
        "id": "IWOOIFKwS8zu"
      },
      "outputs": [],
      "source": [
        "df_mv = df[(df[\"mediaVoto\"] >= 18) & (df[\"mediaVoto\"] <=31)]\n",
        "df_mv_do = df_mv[df_mv[\"Dropout\"]==True][\"mediaVoto\"]\n",
        "df_mv_ndo = df_mv[df_mv[\"Dropout\"]==False][\"mediaVoto\"]"
      ]
    },
    {
      "cell_type": "code",
      "execution_count": 7,
      "metadata": {
        "colab": {
          "base_uri": "https://localhost:8080/"
        },
        "id": "D25rEfSrN75z",
        "outputId": "3abdb498-fc35-41a5-f596-76fa68b04693"
      },
      "outputs": [
        {
          "name": "stdout",
          "output_type": "stream",
          "text": [
            "Mean avg. grade (DROPOUT): 23.638\n",
            "Median avg. grade (DROPOUT): 23.000\n",
            "Mean avg. grade (NON-DROPOUT): 22.500\n",
            "Median avg. grade (NON-DROPOUT): 22.000\n"
          ]
        }
      ],
      "source": [
        "print(\"Mean avg. grade (DROPOUT): {:.3f}\".format(df_mv_do.mean()))\n",
        "print(\"Median avg. grade (DROPOUT): {:.3f}\".format(df_mv_do.median()))\n",
        "print(\"Mean avg. grade (NON-DROPOUT): {:.3f}\".format(df_mv_ndo.mean()))\n",
        "print(\"Median avg. grade (NON-DROPOUT): {:.3f}\".format(df_mv_ndo.median()))"
      ]
    },
    {
      "cell_type": "code",
      "execution_count": 8,
      "metadata": {
        "id": "lXuhxfbQ6hLs"
      },
      "outputs": [],
      "source": [
        "def ecdf_avg_grade(df, ax):\n",
        "    x_drop = df[df[\"Dropout\"]==True][\"mediaVoto\"]\n",
        "    x_non_drop = df[df[\"Dropout\"]==False][\"mediaVoto\"]\n",
        "    \n",
        "    _ = sns.kdeplot(x_non_drop, color=steel_blue, shade=False, cumulative=True, ax=ax)\n",
        "    _ = sns.kdeplot(x_drop, color=orange_red, shade=False, cumulative=True, ax=ax)\n",
        "    plt.xlim([18, 31])\n",
        "    plot_median(ax.lines[0], x_non_drop, ax, color=steel_blue, fill=False)\n",
        "    plot_median(ax.lines[1], x_drop, ax, color=orange_red, fill=False)\n",
        "    _ = ax.set_xlabel(\"Average Grade\", labelpad=10, fontsize=18)\n",
        "    _ = ax.set_ylabel(\"Density\", labelpad=10, fontsize=18)\n",
        "    plt.xticks(fontsize=14)\n",
        "    plt.yticks(fontsize=14)\n",
        "\n",
        "    handles, labels = plt.gca().get_legend_handles_labels()\n",
        "    #drop = plt.Rectangle((0, 0), 1, 1, fc=clr.to_rgba(orange_red, alpha=0.2), ec=orange_red)\n",
        "    #non_drop = plt.Rectangle((0, 0), 1, 1, fc=clr.to_rgba(steel_blue, alpha=0.2), ec=steel_blue)\n",
        "    drop = plt.Line2D([0], [0], color=orange_red, lw=2)\n",
        "    non_drop = plt.Line2D([0], [0], color=steel_blue, lw=2)\n",
        "    _ = plt.legend([handle for i,handle in enumerate(handles) if i in display]+[drop, non_drop],\n",
        "               [label for i,label in enumerate(labels) if i in display]+[\"Yes\", \"No\"], \n",
        "               handlelength=1.6, handleheight=0, title=\"Dropout\", fontsize=14, title_fontsize=16, fancybox=True)"
      ]
    },
    {
      "cell_type": "code",
      "execution_count": 9,
      "metadata": {
        "id": "ruAwTORdXO-5"
      },
      "outputs": [],
      "source": [
        "def box_plot_avg_grade(df, ax):\n",
        "    x_drop = df[df[\"Dropout\"]==True][\"mediaVoto\"]\n",
        "    x_non_drop = df[df[\"Dropout\"]==False][\"mediaVoto\"]\n",
        "\n",
        "    _ = sns.boxplot(x=\"Dropout\", y=df[\"mediaVoto\"], data=df, palette=[steel_blue, orange_red], ax=ax)\n",
        "    _ = ax.set_xlabel(\"Dropout\", labelpad=10, fontsize=18)\n",
        "    _ = ax.set_ylabel(\"Avg. Grade\", labelpad=10, fontsize=18)\n",
        "    labels = [item.get_text() for item in ax.get_xticklabels()]\n",
        "    labels[0] = 'No'\n",
        "    labels[1] = 'Yes'\n",
        "    _ = ax.set_xticklabels(labels, rotation=0)\n",
        "    plt.xticks(fontsize=14)\n",
        "    plt.yticks(fontsize=14)"
      ]
    },
    {
      "cell_type": "code",
      "execution_count": 13,
      "metadata": {
        "colab": {
          "base_uri": "https://localhost:8080/",
          "height": 407
        },
        "id": "kc3ZtFE268pD",
        "outputId": "559a2686-304d-4e2a-c3c5-0aad04ae9b7d"
      },
      "outputs": [
        {
          "data": {
            "image/png": "[encoded data removed]",
            "text/plain": [
              "<Figure size 576x432 with 1 Axes>"
            ]
          },
          "metadata": {},
          "output_type": "display_data"
        }
      ],
      "source": [
        "fig, ax = plt.subplots(1, 1, figsize=(8,6))\n",
        "ecdf_avg_grade(df_mv, ax)"
      ]
    },
    {
      "cell_type": "code",
      "execution_count": 14,
      "metadata": {
        "colab": {
          "base_uri": "https://localhost:8080/",
          "height": 407
        },
        "id": "jC6lfhqIYPkN",
        "outputId": "a458ca58-2335-46da-bf7d-6fcf80f0c4a2"
      },
      "outputs": [
        {
          "data": {
            "image/png": "[encoded data removed]",
            "text/plain": [
              "<Figure size 576x432 with 1 Axes>"
            ]
          },
          "metadata": {},
          "output_type": "display_data"
        }
      ],
      "source": [
        "fig, ax = plt.subplots(1, 1, figsize=(8,6))\n",
        "box_plot_avg_grade(df_mv, ax)"
      ]
    },
    {
      "cell_type": "markdown",
      "metadata": {
        "id": "VDrxE0auTcqH"
      },
      "source": [
        "##### Two-sample Kolmogorov-Smirnov test"
      ]
    },
    {
      "cell_type": "code",
      "execution_count": 15,
      "metadata": {
        "colab": {
          "base_uri": "https://localhost:8080/"
        },
        "id": "27h_lU1aB1F0",
        "outputId": "a8a17395-9c0c-4f51-88ad-e3e00e7eb1ec"
      },
      "outputs": [
        {
          "name": "stdout",
          "output_type": "stream",
          "text": [
            "6.7840651878678155 6.77\n"
          ]
        }
      ],
      "source": [
        "print(np.var(df_mv_do), np.var(df_mv_ndo))"
      ]
    },
    {
      "cell_type": "code",
      "execution_count": 16,
      "metadata": {
        "colab": {
          "base_uri": "https://localhost:8080/"
        },
        "id": "HwFgx7YLKVlZ",
        "outputId": "ee542fd7-c9db-4158-b1f3-572681eb8a24"
      },
      "outputs": [
        {
          "data": {
            "text/plain": [
              "KstestResult(statistic=0.2195744680851064, pvalue=0.15977353602069677)"
            ]
          },
          "execution_count": 16,
          "metadata": {},
          "output_type": "execute_result"
        }
      ],
      "source": [
        "sp.ks_2samp(df_mv_do, df_mv_ndo)"
      ]
    },
    {
      "cell_type": "markdown",
      "metadata": {},
      "source": [
        "### Ultimo accesso"
      ]
    },
    {
      "cell_type": "code",
      "execution_count": 32,
      "metadata": {
        "id": "IWOOIFKwS8zu"
      },
      "outputs": [],
      "source": [
        "df_mv = df[(df[\"ultimoAccesso\"] >= 0)]\n",
        "df_mv_do = df_mv[df_mv[\"Dropout\"]==True][\"ultimoAccesso\"]\n",
        "df_mv_ndo = df_mv[df_mv[\"Dropout\"]==False][\"ultimoAccesso\"]"
      ]
    },
    {
      "cell_type": "code",
      "execution_count": 31,
      "metadata": {
        "colab": {
          "base_uri": "https://localhost:8080/"
        },
        "id": "D25rEfSrN75z",
        "outputId": "3abdb498-fc35-41a5-f596-76fa68b04693"
      },
      "outputs": [
        {
          "name": "stdout",
          "output_type": "stream",
          "text": [
            "Mean last login (DROPOUT): 15.200\n",
            "Median last login (DROPOUT): 14.000\n",
            "Mean last login (NON-DROPOUT): 4.140\n",
            "Median last login (NON-DROPOUT): 5.000\n"
          ]
        }
      ],
      "source": [
        "print(\"Mean last login (DROPOUT): {:.3f}\".format(df_mv_do.mean()))\n",
        "print(\"Median last login (DROPOUT): {:.3f}\".format(df_mv_do.median()))\n",
        "print(\"Mean last login (NON-DROPOUT): {:.3f}\".format(df_mv_ndo.mean()))\n",
        "print(\"Median last login (NON-DROPOUT): {:.3f}\".format(df_mv_ndo.median()))"
      ]
    },
    {
      "cell_type": "code",
      "execution_count": 33,
      "metadata": {
        "id": "lXuhxfbQ6hLs"
      },
      "outputs": [],
      "source": [
        "def ecdf_avg_grade(df, ax):\n",
        "    x_drop = df[df[\"Dropout\"]==True][\"ultimoAccesso\"]\n",
        "    x_non_drop = df[df[\"Dropout\"]==False][\"ultimoAccesso\"]\n",
        "    \n",
        "    _ = sns.kdeplot(x_non_drop, color=steel_blue, shade=False, cumulative=True, ax=ax)\n",
        "    _ = sns.kdeplot(x_drop, color=orange_red, shade=False, cumulative=True, ax=ax)\n",
        "    plt.xlim([18, 31])\n",
        "    plot_median(ax.lines[0], x_non_drop, ax, color=steel_blue, fill=False)\n",
        "    plot_median(ax.lines[1], x_drop, ax, color=orange_red, fill=False)\n",
        "    _ = ax.set_xlabel(\"Last login\", labelpad=10, fontsize=18)\n",
        "    _ = ax.set_ylabel(\"Density\", labelpad=10, fontsize=18)\n",
        "    plt.xticks(fontsize=14)\n",
        "    plt.yticks(fontsize=14)\n",
        "\n",
        "    handles, labels = plt.gca().get_legend_handles_labels()\n",
        "    #drop = plt.Rectangle((0, 0), 1, 1, fc=clr.to_rgba(orange_red, alpha=0.2), ec=orange_red)\n",
        "    #non_drop = plt.Rectangle((0, 0), 1, 1, fc=clr.to_rgba(steel_blue, alpha=0.2), ec=steel_blue)\n",
        "    drop = plt.Line2D([0], [0], color=orange_red, lw=2)\n",
        "    non_drop = plt.Line2D([0], [0], color=steel_blue, lw=2)\n",
        "    _ = plt.legend([handle for i,handle in enumerate(handles) if i in display]+[drop, non_drop],\n",
        "               [label for i,label in enumerate(labels) if i in display]+[\"Yes\", \"No\"], \n",
        "               handlelength=1.6, handleheight=0, title=\"Dropout\", fontsize=14, title_fontsize=16, fancybox=True)"
      ]
    },
    {
      "cell_type": "code",
      "execution_count": 34,
      "metadata": {
        "id": "ruAwTORdXO-5"
      },
      "outputs": [],
      "source": [
        "def box_plot_avg_grade(df, ax):\n",
        "    x_drop = df[df[\"Dropout\"]==True][\"ultimoAccesso\"]\n",
        "    x_non_drop = df[df[\"Dropout\"]==False][\"ultimoAccesso\"]\n",
        "\n",
        "    _ = sns.boxplot(x=\"Dropout\", y=df[\"ultimoAccesso\"], data=df, palette=[steel_blue, orange_red], ax=ax)\n",
        "    _ = ax.set_xlabel(\"Dropout\", labelpad=10, fontsize=18)\n",
        "    _ = ax.set_ylabel(\"Last login\", labelpad=10, fontsize=18)\n",
        "    labels = [item.get_text() for item in ax.get_xticklabels()]\n",
        "    labels[0] = 'No'\n",
        "    labels[1] = 'Yes'\n",
        "    _ = ax.set_xticklabels(labels, rotation=0)\n",
        "    plt.xticks(fontsize=14)\n",
        "    plt.yticks(fontsize=14)"
      ]
    },
    {
      "cell_type": "code",
      "execution_count": 35,
      "metadata": {
        "colab": {
          "base_uri": "https://localhost:8080/",
          "height": 407
        },
        "id": "kc3ZtFE268pD",
        "outputId": "559a2686-304d-4e2a-c3c5-0aad04ae9b7d"
      },
      "outputs": [
        {
          "data": {
            "image/png": "[encoded data removed]",
            "text/plain": [
              "<Figure size 576x432 with 1 Axes>"
            ]
          },
          "metadata": {},
          "output_type": "display_data"
        }
      ],
      "source": [
        "fig, ax = plt.subplots(1, 1, figsize=(8,6))\n",
        "ecdf_avg_grade(df_mv, ax)"
      ]
    },
    {
      "cell_type": "code",
      "execution_count": 36,
      "metadata": {
        "colab": {
          "base_uri": "https://localhost:8080/",
          "height": 407
        },
        "id": "jC6lfhqIYPkN",
        "outputId": "a458ca58-2335-46da-bf7d-6fcf80f0c4a2"
      },
      "outputs": [
        {
          "data": {
            "image/png": "[encoded data removed]",
            "text/plain": [
              "<Figure size 576x432 with 1 Axes>"
            ]
          },
          "metadata": {},
          "output_type": "display_data"
        }
      ],
      "source": [
        "fig, ax = plt.subplots(1, 1, figsize=(8,6))\n",
        "box_plot_avg_grade(df_mv, ax)"
      ]
    },
    {
      "cell_type": "markdown",
      "metadata": {
        "id": "VDrxE0auTcqH"
      },
      "source": [
        "##### Two-sample Kolmogorov-Smirnov test"
      ]
    },
    {
      "cell_type": "code",
      "execution_count": 37,
      "metadata": {
        "colab": {
          "base_uri": "https://localhost:8080/"
        },
        "id": "27h_lU1aB1F0",
        "outputId": "a8a17395-9c0c-4f51-88ad-e3e00e7eb1ec"
      },
      "outputs": [
        {
          "name": "stdout",
          "output_type": "stream",
          "text": [
            "2.758400000000001 0.8883999999999996\n"
          ]
        }
      ],
      "source": [
        "print(np.var(df_mv_do), np.var(df_mv_ndo))"
      ]
    },
    {
      "cell_type": "code",
      "execution_count": 38,
      "metadata": {
        "colab": {
          "base_uri": "https://localhost:8080/"
        },
        "id": "HwFgx7YLKVlZ",
        "outputId": "ee542fd7-c9db-4158-b1f3-572681eb8a24"
      },
      "outputs": [
        {
          "data": {
            "text/plain": [
              "KstestResult(statistic=0.98, pvalue=1.9823306042836677e-27)"
            ]
          },
          "execution_count": 38,
          "metadata": {},
          "output_type": "execute_result"
        }
      ],
      "source": [
        "sp.ks_2samp(df_mv_do, df_mv_ndo)"
      ]
    },
    {
      "cell_type": "markdown",
      "metadata": {},
      "source": [
        "### Ultimo superato"
      ]
    },
    {
      "cell_type": "code",
      "execution_count": 44,
      "metadata": {
        "id": "IWOOIFKwS8zu"
      },
      "outputs": [],
      "source": [
        "df_mv = df[(df[\"ultimoSostenuto\"] > 0)]\n",
        "df_mv_do = df_mv[df_mv[\"Dropout\"]==True][\"ultimoSostenuto\"]\n",
        "df_mv_ndo = df_mv[df_mv[\"Dropout\"]==False][\"ultimoSostenuto\"]"
      ]
    },
    {
      "cell_type": "code",
      "execution_count": 45,
      "metadata": {
        "colab": {
          "base_uri": "https://localhost:8080/"
        },
        "id": "D25rEfSrN75z",
        "outputId": "3abdb498-fc35-41a5-f596-76fa68b04693"
      },
      "outputs": [
        {
          "name": "stdout",
          "output_type": "stream",
          "text": [
            "Mean passed (DROPOUT): 16.170\n",
            "Median passed (DROPOUT): 14.000\n",
            "Mean passed (NON-DROPOUT): 4.140\n",
            "Median passed (NON-DROPOUT): 5.000\n"
          ]
        }
      ],
      "source": [
        "print(\"Mean passed (DROPOUT): {:.3f}\".format(df_mv_do.mean()))\n",
        "print(\"Median passed (DROPOUT): {:.3f}\".format(df_mv_do.median()))\n",
        "print(\"Mean passed (NON-DROPOUT): {:.3f}\".format(df_mv_ndo.mean()))\n",
        "print(\"Median passed (NON-DROPOUT): {:.3f}\".format(df_mv_ndo.median()))"
      ]
    },
    {
      "cell_type": "code",
      "execution_count": 46,
      "metadata": {
        "id": "lXuhxfbQ6hLs"
      },
      "outputs": [],
      "source": [
        "def ecdf_avg_grade(df, ax):\n",
        "    x_drop = df[df[\"Dropout\"]==True][\"ultimoSostenuto\"]\n",
        "    x_non_drop = df[df[\"Dropout\"]==False][\"ultimoSostenuto\"]\n",
        "    \n",
        "    _ = sns.kdeplot(x_non_drop, color=steel_blue, shade=False, cumulative=True, ax=ax)\n",
        "    _ = sns.kdeplot(x_drop, color=orange_red, shade=False, cumulative=True, ax=ax)\n",
        "    plt.xlim([18, 31])\n",
        "    plot_median(ax.lines[0], x_non_drop, ax, color=steel_blue, fill=False)\n",
        "    plot_median(ax.lines[1], x_drop, ax, color=orange_red, fill=False)\n",
        "    _ = ax.set_xlabel(\"Last passed\", labelpad=10, fontsize=18)\n",
        "    _ = ax.set_ylabel(\"Density\", labelpad=10, fontsize=18)\n",
        "    plt.xticks(fontsize=14)\n",
        "    plt.yticks(fontsize=14)\n",
        "\n",
        "    handles, labels = plt.gca().get_legend_handles_labels()\n",
        "    #drop = plt.Rectangle((0, 0), 1, 1, fc=clr.to_rgba(orange_red, alpha=0.2), ec=orange_red)\n",
        "    #non_drop = plt.Rectangle((0, 0), 1, 1, fc=clr.to_rgba(steel_blue, alpha=0.2), ec=steel_blue)\n",
        "    drop = plt.Line2D([0], [0], color=orange_red, lw=2)\n",
        "    non_drop = plt.Line2D([0], [0], color=steel_blue, lw=2)\n",
        "    _ = plt.legend([handle for i,handle in enumerate(handles) if i in display]+[drop, non_drop],\n",
        "               [label for i,label in enumerate(labels) if i in display]+[\"Yes\", \"No\"], \n",
        "               handlelength=1.6, handleheight=0, title=\"Dropout\", fontsize=14, title_fontsize=16, fancybox=True)"
      ]
    },
    {
      "cell_type": "code",
      "execution_count": 47,
      "metadata": {
        "id": "ruAwTORdXO-5"
      },
      "outputs": [],
      "source": [
        "def box_plot_avg_grade(df, ax):\n",
        "    x_drop = df[df[\"Dropout\"]==True][\"ultimoSostenuto\"]\n",
        "    x_non_drop = df[df[\"Dropout\"]==False][\"ultimoSostenuto\"]\n",
        "\n",
        "    _ = sns.boxplot(x=\"Dropout\", y=df[\"ultimoSostenuto\"], data=df, palette=[steel_blue, orange_red], ax=ax)\n",
        "    _ = ax.set_xlabel(\"Dropout\", labelpad=10, fontsize=18)\n",
        "    _ = ax.set_ylabel(\"Last passed\", labelpad=10, fontsize=18)\n",
        "    labels = [item.get_text() for item in ax.get_xticklabels()]\n",
        "    labels[0] = 'No'\n",
        "    labels[1] = 'Yes'\n",
        "    _ = ax.set_xticklabels(labels, rotation=0)\n",
        "    plt.xticks(fontsize=14)\n",
        "    plt.yticks(fontsize=14)"
      ]
    },
    {
      "cell_type": "code",
      "execution_count": 48,
      "metadata": {
        "colab": {
          "base_uri": "https://localhost:8080/",
          "height": 407
        },
        "id": "kc3ZtFE268pD",
        "outputId": "559a2686-304d-4e2a-c3c5-0aad04ae9b7d"
      },
      "outputs": [
        {
          "data": {
            "image/png": "[encoded data removed]",
            "text/plain": [
              "<Figure size 576x432 with 1 Axes>"
            ]
          },
          "metadata": {},
          "output_type": "display_data"
        }
      ],
      "source": [
        "fig, ax = plt.subplots(1, 1, figsize=(8,6))\n",
        "ecdf_avg_grade(df_mv, ax)"
      ]
    },
    {
      "cell_type": "code",
      "execution_count": 49,
      "metadata": {
        "colab": {
          "base_uri": "https://localhost:8080/",
          "height": 407
        },
        "id": "jC6lfhqIYPkN",
        "outputId": "a458ca58-2335-46da-bf7d-6fcf80f0c4a2"
      },
      "outputs": [
        {
          "data": {
            "image/png": "[encoded data removed]",
            "text/plain": [
              "<Figure size 576x432 with 1 Axes>"
            ]
          },
          "metadata": {},
          "output_type": "display_data"
        }
      ],
      "source": [
        "fig, ax = plt.subplots(1, 1, figsize=(8,6))\n",
        "box_plot_avg_grade(df_mv, ax)"
      ]
    },
    {
      "cell_type": "markdown",
      "metadata": {
        "id": "VDrxE0auTcqH"
      },
      "source": [
        "##### Two-sample Kolmogorov-Smirnov test"
      ]
    },
    {
      "cell_type": "code",
      "execution_count": 50,
      "metadata": {
        "colab": {
          "base_uri": "https://localhost:8080/"
        },
        "id": "27h_lU1aB1F0",
        "outputId": "a8a17395-9c0c-4f51-88ad-e3e00e7eb1ec"
      },
      "outputs": [
        {
          "name": "stdout",
          "output_type": "stream",
          "text": [
            "67.6306020823902 2.9203999999999986\n"
          ]
        }
      ],
      "source": [
        "print(np.var(df_mv_do), np.var(df_mv_ndo))"
      ]
    },
    {
      "cell_type": "code",
      "execution_count": 51,
      "metadata": {
        "colab": {
          "base_uri": "https://localhost:8080/"
        },
        "id": "HwFgx7YLKVlZ",
        "outputId": "ee542fd7-c9db-4158-b1f3-572681eb8a24"
      },
      "outputs": [
        {
          "data": {
            "text/plain": [
              "KstestResult(statistic=1.0, pvalue=0.0)"
            ]
          },
          "execution_count": 51,
          "metadata": {},
          "output_type": "execute_result"
        }
      ],
      "source": [
        "sp.ks_2samp(df_mv_do, df_mv_ndo)"
      ]
    },
    {
      "cell_type": "code",
      "execution_count": 43,
      "metadata": {},
      "outputs": [
        {
          "data": {
            "text/plain": [
              "22.94"
            ]
          },
          "execution_count": 43,
          "metadata": {},
          "output_type": "execute_result"
        }
      ],
      "source": [
        "np.mean(df.loc[df[\"Dropout\"] == True, \"mediaVoto\"])"
      ]
    },
    {
      "cell_type": "code",
      "execution_count": 42,
      "metadata": {},
      "outputs": [
        {
          "data": {
            "text/plain": [
              "22.5"
            ]
          },
          "execution_count": 42,
          "metadata": {},
          "output_type": "execute_result"
        }
      ],
      "source": [
        "np.mean(df.loc[df[\"Dropout\"] == False, \"mediaVoto\"])"
      ]
    }
  ],
  "metadata": {
    "colab": {
      "collapsed_sections": [],
      "name": "data_exploration.ipynb",
      "provenance": []
    },
    "interpreter": {
      "hash": "7473d73b0517ab6f64aa731f2cb80c0acf19c95420055020da77d830c23b4531"
    },
    "kernelspec": {
      "display_name": "Python 3.8.12 ('base')",
      "language": "python",
      "name": "python3"
    },
    "language_info": {
      "codemirror_mode": {
        "name": "ipython",
        "version": 3
      },
      "file_extension": ".py",
      "mimetype": "text/x-python",
      "name": "python",
      "nbconvert_exporter": "python",
      "pygments_lexer": "ipython3",
      "version": "3.9.12"
    },
    "orig_nbformat": 4
  },
  "nbformat": 4,
  "nbformat_minor": 0
}
